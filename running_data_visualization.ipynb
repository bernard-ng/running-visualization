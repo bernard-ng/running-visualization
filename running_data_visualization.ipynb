{
 "cells": [
  {
   "cell_type": "markdown",
   "id": "8708ee15",
   "metadata": {},
   "source": [
    "# Data preparation\n",
    "\n",
    "The data exported from Adidas running is separated in several files and each file includes a uuid and the date of the sport activity in the file name, the same information is included in the file in json format. \n",
    "\n",
    "to facilitate the processing I will keep only the uuid as file name to facilitate the liason with the other data (gps and elevation)"
   ]
  },
  {
   "cell_type": "code",
   "execution_count": 1,
   "id": "d5c1a025",
   "metadata": {},
   "outputs": [
    {
     "name": "stdout",
     "output_type": "stream",
     "text": [
      "Requirement already satisfied: pandas in /home/bernard-ng/dev/analysis/jupyter/venv/lib/python3.10/site-packages (1.4.3)\n",
      "Requirement already satisfied: numpy in /home/bernard-ng/dev/analysis/jupyter/venv/lib/python3.10/site-packages (1.23.1)\n",
      "Requirement already satisfied: matplotlib in /home/bernard-ng/dev/analysis/jupyter/venv/lib/python3.10/site-packages (3.5.2)\n",
      "Requirement already satisfied: seaborn in /home/bernard-ng/dev/analysis/jupyter/venv/lib/python3.10/site-packages (0.11.2)\n",
      "Requirement already satisfied: calmap in /home/bernard-ng/dev/analysis/jupyter/venv/lib/python3.10/site-packages (0.0.9)\n",
      "Requirement already satisfied: python-dateutil>=2.8.1 in /home/bernard-ng/dev/analysis/jupyter/venv/lib/python3.10/site-packages (from pandas) (2.8.2)\n",
      "Requirement already satisfied: pytz>=2020.1 in /home/bernard-ng/dev/analysis/jupyter/venv/lib/python3.10/site-packages (from pandas) (2022.1)\n",
      "Requirement already satisfied: pyparsing>=2.2.1 in /home/bernard-ng/dev/analysis/jupyter/venv/lib/python3.10/site-packages (from matplotlib) (3.0.9)\n",
      "Requirement already satisfied: packaging>=20.0 in /home/bernard-ng/dev/analysis/jupyter/venv/lib/python3.10/site-packages (from matplotlib) (21.3)\n",
      "Requirement already satisfied: fonttools>=4.22.0 in /home/bernard-ng/dev/analysis/jupyter/venv/lib/python3.10/site-packages (from matplotlib) (4.34.4)\n",
      "Requirement already satisfied: cycler>=0.10 in /home/bernard-ng/dev/analysis/jupyter/venv/lib/python3.10/site-packages (from matplotlib) (0.11.0)\n",
      "Requirement already satisfied: kiwisolver>=1.0.1 in /home/bernard-ng/dev/analysis/jupyter/venv/lib/python3.10/site-packages (from matplotlib) (1.4.4)\n",
      "Requirement already satisfied: pillow>=6.2.0 in /home/bernard-ng/dev/analysis/jupyter/venv/lib/python3.10/site-packages (from matplotlib) (9.2.0)\n",
      "Requirement already satisfied: scipy>=1.0 in /home/bernard-ng/dev/analysis/jupyter/venv/lib/python3.10/site-packages (from seaborn) (1.8.1)\n",
      "Requirement already satisfied: six>=1.5 in /home/bernard-ng/dev/analysis/jupyter/venv/lib/python3.10/site-packages (from python-dateutil>=2.8.1->pandas) (1.16.0)\n"
     ]
    }
   ],
   "source": [
    "!pip install pandas numpy matplotlib seaborn calmap"
   ]
  },
  {
   "cell_type": "code",
   "execution_count": 2,
   "id": "9a332dd7",
   "metadata": {},
   "outputs": [],
   "source": [
    "import fnmatch\n",
    "import shutil\n",
    "import re\n",
    "import os\n",
    "\n",
    "def formatDatasetFilename(source: str, destination: str, extension: str = 'json') -> list :\n",
    "    formatedFilenames = [];\n",
    "    shutil.rmtree(destination, ignore_errors=True)\n",
    "    os.mkdir(destination)\n",
    "\n",
    "    for file in os.listdir(source):\n",
    "        if fnmatch.fnmatch(file, f'*.{extension}'):\n",
    "\n",
    "            # removing datetime from original filename\n",
    "            filename = os.path.join(destination, re.sub(\"^(.*?)UTC_\", \"\", file))\n",
    "            shutil.copy(os.path.join(source, file), filename)\n",
    "            formatedFilenames.append(filename)\n",
    "    \n",
    "    return formatedFilenames;\n",
    "\n",
    "sessions = formatDatasetFilename('./dataset/Sport-sessions', './data/sessions');\n",
    "gps = formatDatasetFilename('./dataset/Sport-sessions/GPS-data', './data/gps', extension='gpx');\n",
    "elevations = formatDatasetFilename('./dataset/Sport-sessions/Elevation-data', './data/elevations')"
   ]
  },
  {
   "cell_type": "markdown",
   "id": "421d0cc0",
   "metadata": {},
   "source": [
    "to facilitate the processing I will create a single array containing all the data I have previously formatted"
   ]
  },
  {
   "cell_type": "code",
   "execution_count": 3,
   "id": "ed891856",
   "metadata": {},
   "outputs": [],
   "source": [
    "import json\n",
    "import datetime as dt\n",
    "\n",
    "sessions_data = []\n",
    "for session in sessions:\n",
    "    with open(session, 'r') as f:\n",
    "        sessions_data.append(json.load(f))\n",
    "\n",
    "# removing non running sport session\n",
    "sessions_data = list(filter(lambda session: session['sport_type_id'] == '1', sessions_data))\n",
    "    \n",
    "# converting unix timestamp to datatime object\n",
    "def timestampToDatetime(session: dict, fields: list) -> None :\n",
    "    for field in fields:\n",
    "        timestamp = int(session[field]) / 1000\n",
    "        timezone = dt.timezone(dt.timedelta(seconds=7200)) #UTC+2\n",
    "        session[field] = dt.datetime.fromtimestamp(timestamp, tz=timezone)\n",
    "        \n",
    "for session in sessions_data:\n",
    "    session['distance'] = session['distance'] / 1000.0\n",
    "    session['duration'] = round((session['duration'] / 1000) / 60, 2)\n",
    "    timestampToDatetime(session,['start_time', 'end_time', 'created_at', 'updated_at'])"
   ]
  },
  {
   "cell_type": "code",
   "execution_count": 4,
   "id": "b4940462",
   "metadata": {
    "scrolled": false
   },
   "outputs": [],
   "source": [
    "import pandas as pd\n",
    "import numpy as np\n",
    "import datetime as dt\n",
    "from datetime import datetime\n",
    "\n",
    "sessions_df = pd.DataFrame(sessions_data)\n",
    "\n",
    "# Creating new features from the data\n",
    "sessions_df['year'] = sessions_df.start_time.dt.year\n",
    "sessions_df['month'] = sessions_df.start_time.dt.month\n",
    "sessions_df['weekday'] = sessions_df.start_time.dt.day_name()\n",
    "sessions_df['created_at'] = sessions_df.start_time.dt.date\n",
    "sessions_df['weekday_number'] = sessions_df.start_time.dt.weekday"
   ]
  },
  {
   "cell_type": "markdown",
   "id": "e75d453b",
   "metadata": {},
   "source": [
    "# Data Visualization\n",
    "\n",
    "After having prepared my data I can now visualize them according to the different questions I have about my performance"
   ]
  },
  {
   "cell_type": "code",
   "execution_count": 5,
   "id": "da20fb40",
   "metadata": {
    "scrolled": true
   },
   "outputs": [],
   "source": [
    "import matplotlib.pyplot as plt\n",
    "colors = {\n",
    "    \"black\": \"#000\",\n",
    "    \"white\": \"#fff\",\n",
    "    \"gray\": {\n",
    "        50: \"#f9fafb\",\n",
    "        100: \"#f3f4f6\",\n",
    "        200: \"#e5e7eb\",\n",
    "        300: \"#d1d5db\",\n",
    "        400: \"#9ca3af\",\n",
    "        500: \"#6b7280\",\n",
    "        600: \"#4b5563\",\n",
    "        700: \"#374151\",\n",
    "        800: \"#1f2937\",\n",
    "        900: \"#111827\"\n",
    "    },\n",
    "    \"red\": {\n",
    "        50: \"#fef2f2\",\n",
    "        100: \"#fee2e2\",\n",
    "        200: \"#fecaca\",\n",
    "        300: \"#fca5a5\",\n",
    "        400: \"#f87171\",\n",
    "        500: \"#ef4444\",\n",
    "        600: \"#dc2626\",\n",
    "        700: \"#b91c1c\",\n",
    "        800: \"#991b1b\",\n",
    "        900: \"#7f1d1d\"\n",
    "    },\n",
    "    \"orange\": {\n",
    "        50: \"#fff7ed\",\n",
    "        100: \"#ffedd5\",\n",
    "        200: \"#fed7aa\",\n",
    "        300: \"#fdba74\",\n",
    "        400: \"#fb923c\",\n",
    "        500: \"#f97316\",\n",
    "        600: \"#ea580c\",\n",
    "        700: \"#c2410c\",\n",
    "        800: \"#9a3412\",\n",
    "        900: \"#7c2d12\"\n",
    "    },\n",
    "    \"yellow\": {\n",
    "        50: \"#fefce8\",\n",
    "        100: \"#fef9c3\",\n",
    "        200: \"#fef08a\",\n",
    "        300: \"#fde047\",\n",
    "        400: \"#facc15\",\n",
    "        500: \"#eab308\",\n",
    "        600: \"#ca8a04\",\n",
    "        700: \"#a16207\",\n",
    "        800: \"#854d0e\",\n",
    "        900: \"#713f12\"\n",
    "    },\n",
    "    \"green\": {\n",
    "        50: \"#f0fdf4\",\n",
    "        100: \"#dcfce7\",\n",
    "        200: \"#bbf7d0\",\n",
    "        300: \"#86efac\",\n",
    "        400: \"#4ade80\",\n",
    "        500: \"#22c55e\",\n",
    "        600: \"#16a34a\",\n",
    "        700: \"#15803d\",\n",
    "        800: \"#166534\",\n",
    "        900: \"#14532d\"\n",
    "    },\n",
    "    \"cyan\": {\n",
    "        50: \"#ecfeff\",\n",
    "        100: \"#cffafe\",\n",
    "        200: \"#a5f3fc\",\n",
    "        300: \"#67e8f9\",\n",
    "        400: \"#22d3ee\",\n",
    "        500: \"#06b6d4\",\n",
    "        600: \"#0891b2\",\n",
    "        700: \"#0e7490\",\n",
    "        800: \"#155e75\",\n",
    "        900: \"#164e63\"\n",
    "    },\n",
    "    \"blue\": {\n",
    "        50: \"#eff6ff\",\n",
    "        100: \"#dbeafe\",\n",
    "        200: \"#bfdbfe\",\n",
    "        300: \"#93c5fd\",\n",
    "        400: \"#60a5fa\",\n",
    "        500: \"#3b82f6\",\n",
    "        600: \"#2563eb\",\n",
    "        700: \"#1d4ed8\",\n",
    "        800: \"#1e40af\",\n",
    "        900: \"#1e3a8a\"\n",
    "    },\n",
    "    \"indigo\": {\n",
    "        50: \"#eef2ff\",\n",
    "        100: \"#e0e7ff\",\n",
    "        200: \"#c7d2fe\",\n",
    "        300: \"#a5b4fc\",\n",
    "        400: \"#818cf8\",\n",
    "        500: \"#6366f1\",\n",
    "        600: \"#4f46e5\",\n",
    "        700: \"#4338ca\",\n",
    "        800: \"#3730a3\",\n",
    "        900: \"#312e81\"\n",
    "    },\n",
    "    \"pink\": {\n",
    "        50: \"#fdf2f8\",\n",
    "        100: \"#fce7f3\",\n",
    "        200: \"#fbcfe8\",\n",
    "        300: \"#f9a8d4\",\n",
    "        400: \"#f472b6\",\n",
    "        500: \"#ec4899\",\n",
    "        600: \"#db2777\",\n",
    "        700: \"#be185d\",\n",
    "        800: \"#9d174d\",\n",
    "        900: \"#831843\"\n",
    "    }\n",
    "}\n"
   ]
  },
  {
   "cell_type": "markdown",
   "id": "dc1f7184",
   "metadata": {},
   "source": [
    "## Sport Session Frequency \n",
    "\n",
    "It is a long established fact that a reader will be distracted by the readable content of a page when looking at its layout. The point of using Lorem Ipsum is that it has a more-or-less normal distribution of letters, as opposed to using 'Content here, content here', making it look like readable English. Many desktop publishing packages and web page editors now use Lorem Ipsum as their default model text, and a search for 'lorem ipsum' will uncover many web sites still in their infancy. Various versions have evolved over the years, sometimes by accident, sometimes on purpose (injected humour and the like).\n",
    "\n",
    "It is a long established fact that a reader will be distracted by the readable content of a page when looking at its layout. The point of using Lorem Ipsum is that it has a more-or-less normal distribution of letters, as opposed to using 'Content here, content here', making it look like readable English. Many desktop publishing packages and web page editors now use Lorem Ipsum as their default model text, and a search for 'lorem ipsum' will uncover many web sites still in their infancy. Various versions have evolved over the years, sometimes by accident, sometimes on purpose (injected humour and the like)."
   ]
  },
  {
   "cell_type": "code",
   "execution_count": 6,
   "id": "585ca54d",
   "metadata": {},
   "outputs": [
    {
     "name": "stderr",
     "output_type": "stream",
     "text": [
      "findfont: Font family ['Arial'] not found. Falling back to DejaVu Sans.\n"
     ]
    },
    {
     "data": {
      "image/png": "[encoded data removed]",
      "text/plain": [
       "<Figure size 1440x720 with 5 Axes>"
      ]
     },
     "metadata": {
      "needs_background": "light"
     },
     "output_type": "display_data"
    }
   ],
   "source": [
    "import calmap\n",
    "\n",
    "sessions_calmap = sessions_df[['created_at', 'distance']].sort_values(by='created_at')\n",
    "sessions_calmap = sessions_calmap.reset_index(drop=True)\n",
    "sessions_calmap = pd.Series(\n",
    "    sessions_calmap['distance'].tolist(),\n",
    "    pd.DatetimeIndex(sessions_calmap['created_at'].tolist())\n",
    ");\n",
    "\n",
    "plt.rcParams[\"figure.figsize\"] = (20, 10)\n",
    "fig,ax = calmap.calendarplot(\n",
    "    sessions_calmap,\n",
    "    monthticks=3,\n",
    "    cmap='YlGn', \n",
    "    fillcolor= colors['gray'][300],\n",
    "    daylabels='LMMJVSD',\n",
    "    linewidth=2,\n",
    "    dayticks=[0, 2, 4, 6],\n",
    "    fig_kws=dict(figsize=(20, 10))\n",
    ");\n",
    "\n",
    "fig.colorbar(ax[0].get_children()[1], ax=ax.ravel().tolist());"
   ]
  },
  {
   "cell_type": "markdown",
   "id": "a59c2ce7",
   "metadata": {},
   "source": [
    "## What day of the week did I run the most kilometres?\n",
    "\n",
    "It is a long established fact that a reader will be distracted by the readable content of a page when looking at its layout. The point of using Lorem Ipsum is that it has a more-or-less normal distribution of letters, as opposed to using 'Content here, content here', making it look like readable English. Many desktop publishing packages and web page editors now use Lorem Ipsum as their default model text, and a search for 'lorem ipsum' will uncover many web sites still in their infancy. Various versions have evolved over the years, sometimes by accident, sometimes on purpose (injected humour and the like).\n"
   ]
  },
  {
   "cell_type": "code",
   "execution_count": 8,
   "id": "d26c31a6",
   "metadata": {
    "scrolled": true
   },
   "outputs": [
    {
     "ename": "IndentationError",
     "evalue": "unindent does not match any outer indentation level (<tokenize>, line 43)",
     "output_type": "error",
     "traceback": [
      "\u001b[0;36m  File \u001b[0;32m<tokenize>:43\u001b[0;36m\u001b[0m\n\u001b[0;31m    color=colors['red'][400],\u001b[0m\n\u001b[0m    ^\u001b[0m\n\u001b[0;31mIndentationError\u001b[0m\u001b[0;31m:\u001b[0m unindent does not match any outer indentation level\n"
     ]
    }
   ],
   "source": [
    "def repartitionPlot(x: list, y: list, title: str, label: str) -> None:\n",
    "    fig, ax = plt.subplots(figsize=(10, 4), dpi=100)\n",
    "    bar_width = 0.80\n",
    "    ind = np.arange(len(y))\n",
    "    \n",
    "    average = np.average(y.tolist());\n",
    "    \n",
    "    ax.barh(ind, y, bar_width)\n",
    "    ax.set_yticks(ind + bar_width / 2)\n",
    "    ax.set_yticklabels(x, minor=False)\n",
    "    ax.spines['right'].set_visible(False)\n",
    "    ax.spines['bottom'].set_visible(False)\n",
    "    ax.spines['top'].set_visible(False)\n",
    "    ax.get_xaxis().set_ticks([])\n",
    "\n",
    "    plt.title(title)\n",
    "    plt.rcParams['axes.titlepad'] = 30\n",
    "    ax.axvline(average, color=colors['red'][400], linewidth=1)\n",
    "    ax.barh(x, y, color=colors['gray'][900], label=label)\n",
    "    ax.legend(frameon=False)\n",
    "\n",
    "    for label in ax.get_yticklabels():\n",
    "        label.set_verticalalignment('top')\n",
    "\n",
    "    for i, v in enumerate(y):\n",
    "        ax.text(v - 10, i - .1, str(round(v, 1)) + \" Km\", color='white', fontweight='bold')\n",
    "        \n",
    "    \n",
    "    for data, xoff in zip([y.tolist()], [15, -15]):\n",
    "        x0 = average\n",
    "        align = 'left' if xoff > 0 else 'right'\n",
    "\n",
    "        ax.annotate(\n",
    "            'Avg {:0.2f} Km'.format(x0), \n",
    "            xy=(x0, 0), \n",
    "            xytext=(xoff, 15),\n",
    "            xycoords=('data', 'axes fraction'), \n",
    "            textcoords='offset points',\n",
    "            fontweight='bold',\n",
    "           horizontalalignment=align, \n",
    "            verticalalignment='center',\n",
    "        )\n",
    "     color=colors['red'][400],\n",
    "        \n",
    "    plt.show();\n",
    "\n",
    "repartitionPlot(\n",
    "    x=sessions_df['weekday'].unique(), \n",
    "    y=sessions_df.groupby(sessions_df['weekday'])[['distance']].sum()['distance'], \n",
    "    title=\"Distance run according to day of the week\", \n",
    "    label=\"Distance\"\n",
    ")"
   ]
  },
  {
   "cell_type": "code",
   "execution_count": null,
   "id": "26a79aa7",
   "metadata": {
    "scrolled": true
   },
   "outputs": [],
   "source": [
    "distances_df = sessions_df[['duration', 'distance']].sort_values(by=\"distance\")\n",
    "\n",
    "minimum = distances_df['distance'].min()\n",
    "maximum = distances_df['distance'].max()\n",
    "average = distances_df['distance'].mean()\n",
    "  \n",
    "fig, ax = plt.subplots(figsize=(10, 4), dpi=100)\n",
    "plt.title(\"Distances over the duration of the race sessions\")\n",
    "plt.rcParams['axes.titlepad'] = 30\n",
    "ax.spines['right'].set_visible(False)\n",
    "ax.spines['top'].set_visible(False)\n",
    "\n",
    "ax.axhline(average, color=colors['red'][400], linewidth=1)\n",
    "ax.scatter(distances_df['duration'], distances_df['distance'], color=colors['gray'][400])\n",
    "ax.scatter(\n",
    "    distances_df['duration'][distances_df['distance'] == maximum], \n",
    "    maximum, \n",
    "    color=colors['orange'][500],\n",
    "    label=\"longest distance\"\n",
    ")\n",
    "ax.scatter(\n",
    "    distances_df['duration'][distances_df['distance'] == minimum], \n",
    "    minimum, \n",
    "    color=colors['red'][500],\n",
    "    label=\"shortest distance\"\n",
    ")\n",
    "ax.legend();"
   ]
  }
 ],
 "metadata": {
  "kernelspec": {
   "display_name": "Python 3 (ipykernel)",
   "language": "python",
   "name": "python3"
  },
  "language_info": {
   "codemirror_mode": {
    "name": "ipython",
    "version": 3
   },
   "file_extension": ".py",
   "mimetype": "text/x-python",
   "name": "python",
   "nbconvert_exporter": "python",
   "pygments_lexer": "ipython3",
   "version": "3.10.4"
  }
 },
 "nbformat": 4,
 "nbformat_minor": 5
}
